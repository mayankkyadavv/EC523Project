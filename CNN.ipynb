# Download dataset 

import torch
import torchvision
import torchvision.transforms as transforms
import os
import torch.nn as nn
import torch.nn.functional as F
import torch.optim as optim

from google.colab import drive
drive.mount('/content/drive')


# Define transformations and convert the CIFAR-10 images to grayscale for the input and normalize the colored images for the output

transform = transforms.Compose(
    [transforms.Grayscale(num_output_channels=1),
     transforms.ToTensor(),
     transforms.Normalize((0.5,), (0.5,))])

transform_target = transforms.Compose(
    [transforms.ToTensor(),
     transforms.Normalize((0.5, 0.5, 0.5), (0.5, 0.5, 0.5))])




# Load CIFAR-10 Dataset
class CIFAR10Colorization(torchvision.datasets.CIFAR10):
    def __getitem__(self, index):
        img, _ = super().__getitem__(index)

        # Input (grayscale) and target (color)
        input_img = transform(img)
        target_img = transform_target(img)

        return input_img, target_img

trainset = CIFAR10Colorization(root='./data', train=True, download=True)
trainloader = torch.utils.data.DataLoader(trainset, batch_size=4, shuffle=True, num_workers=2)

testset = CIFAR10Colorization(root='./data', train=False, download=True)
testloader = torch.utils.data.DataLoader(testset, batch_size=4, shuffle=False, num_workers=2)




# Define CNN model 
# classes = ('plane', 'car', 'bird', 'cat', 'deer', 'dog', 'frog', 'horse', 'ship', 'truck')
class ColorizationNet(nn.Module):
    def __init__(self):
        super(ColorizationNet, self).__init__()
        # Define layers of the network
        self.conv1 = nn.Conv2d(1, 32, 3, padding=1)  # Grayscale input
        self.conv2 = nn.Conv2d(32, 64, 3, padding=1)
        self.conv3 = nn.Conv2d(64, 128, 3, padding=1)
        self.fc1 = nn.Linear(128 * 32 * 32, 500)
        self.fc2 = nn.Linear(500, 32 * 32 * 3)  # Output size to reshape to 3-channel image

    def forward(self, x):
        # Forward pass
        x = F.relu(self.conv1(x))
        x = F.relu(self.conv2(x))
        x = F.relu(self.conv3(x))
        x = x.view(-1, 128 * 32 * 32)
        x = F.relu(self.fc1(x))
        x = torch.sigmoid(self.fc2(x))
        x = x.view(-1, 3, 32, 32)  # Reshape to color image
        return x




# Training model 
net = ColorizationNet()
criterion = nn.MSELoss()
optimizer = optim.Adam(net.parameters(), lr=0.001)

num_epochs = 10  # Define the number of epochs for training

print("Starting Training...")
for epoch in range(num_epochs):  # loop over the dataset multiple times
    running_loss = 0.0
    for i, data in enumerate(trainloader, 0):
        inputs, targets = data

        # zero the parameter gradients
        optimizer.zero_grad()

        # forward + backward + optimize
        outputs = net(inputs)
        loss = criterion(outputs, targets)
        loss.backward()
        optimizer.step()

        # print statistics for every 100 mini-batches
        running_loss += loss.item()
        if i % 100 == 99:    # print every 100 mini-batches
            print(f'Epoch {epoch+1}, Batch {i+1}, Loss: {running_loss / 100:.3f}')
            running_loss = 0.0

print('Finished Training')




# Function to convert a tensor to an image
def imshow(img):
    img = img / 2 + 0.5  # unnormalize
    npimg = img.numpy()
    plt.imshow(np.transpose(npimg, (1, 2, 0)))
    plt.show()




#Displaying Grayscale Input and Colorized Output 
# test data
dataiter = iter(testloader)
images, labels = dataiter.next()

# first image in the batch
input_image = images[0]
true_image = labels[0]

# grayscale input image
print('Grayscale Input Image:')
imshow(torchvision.utils.make_grid(input_image))

# Colorize the image 
output = net(input_image.unsqueeze(0))

# colorized output image
print('Colorized Output Image:')
imshow(torchvision.utils.make_grid(output.detach().squeeze(0)))

# comparison
print('True Color Image:')
imshow(torchvision.utils.make_grid(true_image))





# Calculating MSE and SSIM 
from skimage.metrics import structural_similarity as ssim
import numpy as np

def calculate_mse(target, output):
    return ((target - output) ** 2).mean()

def calculate_ssim(target, output, data_range=1):
    # Converting tensors to numpy arrays
    target_np = target.squeeze().cpu().numpy()
    output_np = output.squeeze().cpu().detach().numpy()
    
    # Calculating SSIM
    return ssim(target_np, output_np, data_range=data_range, multichannel=True)

# Example usage in the test loop
total_mse = 0.0
total_ssim = 0.0
total_batches = 0

for i, data in enumerate(testloader, 0):
    inputs, targets = data
    outputs = net(inputs)

    total_mse += calculate_mse(targets, outputs)
    total_ssim += calculate_ssim(targets, outputs)
    total_batches += 1

average_mse = total_mse / total_batches
average_ssim = total_ssim / total_batches

print(f"Average MSE on Test Set: {average_mse}")
print(f"Average SSIM on Test Set: {average_ssim}")
